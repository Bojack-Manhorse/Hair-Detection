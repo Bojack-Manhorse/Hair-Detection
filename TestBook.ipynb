{
 "cells": [
  {
   "cell_type": "markdown",
   "metadata": {},
   "source": [
    "## Loading a pretrained model:\n",
    "\n",
    "We'll use the functions in the 'models.py' file."
   ]
  },
  {
   "cell_type": "code",
   "execution_count": null,
   "metadata": {},
   "outputs": [],
   "source": [
    "from model import get_model, get_device\n",
    "\n",
    "model = get_model(2)"
   ]
  },
  {
   "cell_type": "markdown",
   "metadata": {},
   "source": [
    "## Visualising the results\n",
    "\n",
    "We'll create an instance of the `DrawMasks` class from `visual_utils.py`."
   ]
  },
  {
   "cell_type": "code",
   "execution_count": null,
   "metadata": {},
   "outputs": [],
   "source": [
    "from visual_utils import DrawMasks\n",
    "from torchvision.models.detection import MaskRCNN_ResNet50_FPN_Weights\n",
    "\n",
    "visualiser = DrawMasks(model, transforms=MaskRCNN_ResNet50_FPN_Weights.DEFAULT.transforms(), device=get_device())"
   ]
  },
  {
   "cell_type": "markdown",
   "metadata": {},
   "source": [
    "## Testing the model\n",
    "\n",
    "Let's see how the model initially performs on a test image:"
   ]
  },
  {
   "cell_type": "code",
   "execution_count": null,
   "metadata": {},
   "outputs": [],
   "source": [
    "dave_image_path = \"Datasets/test/dave_before.webp\"\n",
    "\n",
    "image = visualiser.draw_mask_from_image_path_and_model(dave_image_path)\n",
    "\n",
    "image"
   ]
  },
  {
   "cell_type": "markdown",
   "metadata": {},
   "source": [
    "Not great, so we need to fine-tune the model."
   ]
  },
  {
   "cell_type": "markdown",
   "metadata": {},
   "source": [
    "## Defining the datasets\n",
    "\n",
    "We define a training and validation dataset, using the class `HairDataset` in `data_utils.py`."
   ]
  },
  {
   "cell_type": "code",
   "execution_count": null,
   "metadata": {},
   "outputs": [],
   "source": [
    "from data_utils import HairDataset\n",
    "\n",
    "folder_path = 'Datasets/hair-seg.v6i.coco-segmentation/'\n",
    "\n",
    "train_dataset = HairDataset(folder_path + 'train', training_mode=True)\n",
    "validation_dataset = HairDataset(folder_path + 'valid', training_mode=True)"
   ]
  },
  {
   "cell_type": "markdown",
   "metadata": {},
   "source": [
    "## Training the model\n",
    "\n",
    "We create an instance of the `TrainModel` class from `training_loop.py` to train the model.\n",
    "\n",
    "Uncomment the commented lines to train the model."
   ]
  },
  {
   "cell_type": "code",
   "execution_count": null,
   "metadata": {},
   "outputs": [],
   "source": [
    "from training_loop import TrainModel\n",
    "\n",
    "training_loop = TrainModel(model, train_dataset, validation_dataset)\n",
    "\n",
    "#training_loop.train_n_epochs(batch_size=2, num_epochs=10, initial_learning_rate=0.01)\n",
    "\n",
    "#training_loop.save_model_parameters('app/Model_Weights.pt')\n",
    "\n",
    "model = training_loop.get_model()"
   ]
  },
  {
   "cell_type": "code",
   "execution_count": null,
   "metadata": {},
   "outputs": [],
   "source": [
    "import torch\n",
    "\n",
    "state_dict = torch.load('app/Model_Weights.pt', map_location=get_device())\n",
    "\n",
    "model.load_state_dict(state_dict)"
   ]
  },
  {
   "cell_type": "markdown",
   "metadata": {},
   "source": [
    "## Testing the model after training\n",
    "\n",
    "Let's see how the model performs after training."
   ]
  },
  {
   "cell_type": "code",
   "execution_count": null,
   "metadata": {},
   "outputs": [],
   "source": [
    "dave_image_path = \"Datasets/test/dave_after.webp\"\n",
    "\n",
    "my_picture = \"Datasets/test/photo.jpg\"\n",
    "\n",
    "image = visualiser.draw_mask_from_image_path_and_model(dave_image_path, prob_threshold=0.8)\n",
    "\n",
    "image"
   ]
  },
  {
   "cell_type": "code",
   "execution_count": null,
   "metadata": {},
   "outputs": [],
   "source": []
  }
 ],
 "metadata": {
  "kernelspec": {
   "display_name": "Deep_Learning",
   "language": "python",
   "name": "python3"
  },
  "language_info": {
   "codemirror_mode": {
    "name": "ipython",
    "version": 3
   },
   "file_extension": ".py",
   "mimetype": "text/x-python",
   "name": "python",
   "nbconvert_exporter": "python",
   "pygments_lexer": "ipython3",
   "version": "3.10.14"
  }
 },
 "nbformat": 4,
 "nbformat_minor": 2
}
